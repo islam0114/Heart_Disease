{
 "cells": [
  {
   "cell_type": "code",
   "execution_count": 3,
   "id": "91a3a37f",
   "metadata": {},
   "outputs": [],
   "source": [
    "import pickle\n",
    "from sklearn.model_selection import RandomizedSearchCV\n",
    "from sklearn.metrics import roc_auc_score\n",
    "from scipy.stats import uniform, randint\n",
    "import pandas as pd\n",
    "from sklearn.preprocessing import StandardScaler\n",
    "from sklearn.model_selection import train_test_split\n",
    "\n"
   ]
  },
  {
   "cell_type": "code",
   "execution_count": 4,
   "id": "eee01047",
   "metadata": {},
   "outputs": [
    {
     "data": {
      "application/vnd.microsoft.datawrangler.viewer.v0+json": {
       "columns": [
        {
         "name": "index",
         "rawType": "int64",
         "type": "integer"
        },
        {
         "name": "thal_reversable defect",
         "rawType": "bool",
         "type": "boolean"
        },
        {
         "name": "oldpeak",
         "rawType": "float64",
         "type": "float"
        },
        {
         "name": "thal_normal",
         "rawType": "bool",
         "type": "boolean"
        },
        {
         "name": "cp_asymptomatic",
         "rawType": "bool",
         "type": "boolean"
        },
        {
         "name": "chol",
         "rawType": "int64",
         "type": "integer"
        },
        {
         "name": "slope_upsloping",
         "rawType": "bool",
         "type": "boolean"
        },
        {
         "name": "trestbps",
         "rawType": "int64",
         "type": "integer"
        },
        {
         "name": "cp_non-anginal pain",
         "rawType": "bool",
         "type": "boolean"
        },
        {
         "name": "exang_no",
         "rawType": "bool",
         "type": "boolean"
        },
        {
         "name": "sex_female",
         "rawType": "bool",
         "type": "boolean"
        },
        {
         "name": "thalach",
         "rawType": "int64",
         "type": "integer"
        },
        {
         "name": "age",
         "rawType": "int64",
         "type": "integer"
        },
        {
         "name": "ca",
         "rawType": "float64",
         "type": "float"
        },
        {
         "name": "num",
         "rawType": "int64",
         "type": "integer"
        }
       ],
       "ref": "81420e52-bcde-4be7-ad6d-d0aa484a4e7d",
       "rows": [
        [
         "0",
         "False",
         "2.3",
         "False",
         "False",
         "233",
         "False",
         "145",
         "False",
         "True",
         "False",
         "150",
         "63",
         "0.0",
         "0"
        ],
        [
         "1",
         "False",
         "1.5",
         "True",
         "True",
         "286",
         "False",
         "160",
         "False",
         "False",
         "False",
         "108",
         "67",
         "3.0",
         "1"
        ],
        [
         "2",
         "True",
         "2.6",
         "False",
         "True",
         "229",
         "False",
         "120",
         "False",
         "False",
         "False",
         "129",
         "67",
         "2.0",
         "1"
        ],
        [
         "3",
         "False",
         "3.5",
         "True",
         "False",
         "250",
         "False",
         "130",
         "True",
         "True",
         "False",
         "187",
         "37",
         "0.0",
         "0"
        ],
        [
         "4",
         "False",
         "1.4",
         "True",
         "False",
         "204",
         "True",
         "130",
         "False",
         "True",
         "True",
         "172",
         "41",
         "0.0",
         "0"
        ]
       ],
       "shape": {
        "columns": 14,
        "rows": 5
       }
      },
      "text/html": [
       "<div>\n",
       "<style scoped>\n",
       "    .dataframe tbody tr th:only-of-type {\n",
       "        vertical-align: middle;\n",
       "    }\n",
       "\n",
       "    .dataframe tbody tr th {\n",
       "        vertical-align: top;\n",
       "    }\n",
       "\n",
       "    .dataframe thead th {\n",
       "        text-align: right;\n",
       "    }\n",
       "</style>\n",
       "<table border=\"1\" class=\"dataframe\">\n",
       "  <thead>\n",
       "    <tr style=\"text-align: right;\">\n",
       "      <th></th>\n",
       "      <th>thal_reversable defect</th>\n",
       "      <th>oldpeak</th>\n",
       "      <th>thal_normal</th>\n",
       "      <th>cp_asymptomatic</th>\n",
       "      <th>chol</th>\n",
       "      <th>slope_upsloping</th>\n",
       "      <th>trestbps</th>\n",
       "      <th>cp_non-anginal pain</th>\n",
       "      <th>exang_no</th>\n",
       "      <th>sex_female</th>\n",
       "      <th>thalach</th>\n",
       "      <th>age</th>\n",
       "      <th>ca</th>\n",
       "      <th>num</th>\n",
       "    </tr>\n",
       "  </thead>\n",
       "  <tbody>\n",
       "    <tr>\n",
       "      <th>0</th>\n",
       "      <td>False</td>\n",
       "      <td>2.3</td>\n",
       "      <td>False</td>\n",
       "      <td>False</td>\n",
       "      <td>233</td>\n",
       "      <td>False</td>\n",
       "      <td>145</td>\n",
       "      <td>False</td>\n",
       "      <td>True</td>\n",
       "      <td>False</td>\n",
       "      <td>150</td>\n",
       "      <td>63</td>\n",
       "      <td>0.0</td>\n",
       "      <td>0</td>\n",
       "    </tr>\n",
       "    <tr>\n",
       "      <th>1</th>\n",
       "      <td>False</td>\n",
       "      <td>1.5</td>\n",
       "      <td>True</td>\n",
       "      <td>True</td>\n",
       "      <td>286</td>\n",
       "      <td>False</td>\n",
       "      <td>160</td>\n",
       "      <td>False</td>\n",
       "      <td>False</td>\n",
       "      <td>False</td>\n",
       "      <td>108</td>\n",
       "      <td>67</td>\n",
       "      <td>3.0</td>\n",
       "      <td>1</td>\n",
       "    </tr>\n",
       "    <tr>\n",
       "      <th>2</th>\n",
       "      <td>True</td>\n",
       "      <td>2.6</td>\n",
       "      <td>False</td>\n",
       "      <td>True</td>\n",
       "      <td>229</td>\n",
       "      <td>False</td>\n",
       "      <td>120</td>\n",
       "      <td>False</td>\n",
       "      <td>False</td>\n",
       "      <td>False</td>\n",
       "      <td>129</td>\n",
       "      <td>67</td>\n",
       "      <td>2.0</td>\n",
       "      <td>1</td>\n",
       "    </tr>\n",
       "    <tr>\n",
       "      <th>3</th>\n",
       "      <td>False</td>\n",
       "      <td>3.5</td>\n",
       "      <td>True</td>\n",
       "      <td>False</td>\n",
       "      <td>250</td>\n",
       "      <td>False</td>\n",
       "      <td>130</td>\n",
       "      <td>True</td>\n",
       "      <td>True</td>\n",
       "      <td>False</td>\n",
       "      <td>187</td>\n",
       "      <td>37</td>\n",
       "      <td>0.0</td>\n",
       "      <td>0</td>\n",
       "    </tr>\n",
       "    <tr>\n",
       "      <th>4</th>\n",
       "      <td>False</td>\n",
       "      <td>1.4</td>\n",
       "      <td>True</td>\n",
       "      <td>False</td>\n",
       "      <td>204</td>\n",
       "      <td>True</td>\n",
       "      <td>130</td>\n",
       "      <td>False</td>\n",
       "      <td>True</td>\n",
       "      <td>True</td>\n",
       "      <td>172</td>\n",
       "      <td>41</td>\n",
       "      <td>0.0</td>\n",
       "      <td>0</td>\n",
       "    </tr>\n",
       "  </tbody>\n",
       "</table>\n",
       "</div>"
      ],
      "text/plain": [
       "   thal_reversable defect  oldpeak  thal_normal  cp_asymptomatic  chol  \\\n",
       "0                   False      2.3        False            False   233   \n",
       "1                   False      1.5         True             True   286   \n",
       "2                    True      2.6        False             True   229   \n",
       "3                   False      3.5         True            False   250   \n",
       "4                   False      1.4         True            False   204   \n",
       "\n",
       "   slope_upsloping  trestbps  cp_non-anginal pain  exang_no  sex_female  \\\n",
       "0            False       145                False      True       False   \n",
       "1            False       160                False     False       False   \n",
       "2            False       120                False     False       False   \n",
       "3            False       130                 True      True       False   \n",
       "4             True       130                False      True        True   \n",
       "\n",
       "   thalach  age   ca  num  \n",
       "0      150   63  0.0    0  \n",
       "1      108   67  3.0    1  \n",
       "2      129   67  2.0    1  \n",
       "3      187   37  0.0    0  \n",
       "4      172   41  0.0    0  "
      ]
     },
     "execution_count": 4,
     "metadata": {},
     "output_type": "execute_result"
    }
   ],
   "source": [
    "df = pd.read_csv(\"data/heart_disease_selected_features.csv\")\n",
    "df.head()"
   ]
  },
  {
   "cell_type": "code",
   "execution_count": 5,
   "id": "ff31f4e6",
   "metadata": {},
   "outputs": [],
   "source": [
    "X = df.drop(\"num\", axis=1)\n",
    "y = df[\"num\"]\n",
    "X_train, X_test, y_train, y_test = train_test_split(X, y, test_size=0.2, random_state=42)\n",
    "scaler = StandardScaler()\n",
    "X_train = scaler.fit_transform(X_train)\n",
    "X_test = scaler.transform(X_test)"
   ]
  },
  {
   "cell_type": "code",
   "execution_count": 6,
   "id": "d4976b3d",
   "metadata": {},
   "outputs": [
    {
     "name": "stdout",
     "output_type": "stream",
     "text": [
      "✅ Loaded models: ['Logistic Regression', 'Decision Tree', 'Random Forest', 'SVM']\n"
     ]
    }
   ],
   "source": [
    "model_files = {\n",
    "    \"Logistic Regression\": \"models/Logistic Regression_model.pkl\",\n",
    "    \"Decision Tree\": \"models/Decision Tree_model.pkl\",\n",
    "    \"Random Forest\": \"models/Random Forest_model.pkl\",\n",
    "    \"SVM\": \"models/SVM_model.pkl\"\n",
    "}\n",
    "\n",
    "loaded_models = {}\n",
    "for name, file in model_files.items():\n",
    "    with open(file, \"rb\") as f:\n",
    "        loaded_models[name] = pickle.load(f)\n",
    "\n",
    "print(\"✅ Loaded models:\", list(loaded_models.keys()))"
   ]
  },
  {
   "cell_type": "code",
   "execution_count": 7,
   "id": "1c91eb34",
   "metadata": {},
   "outputs": [],
   "source": [
    "models_params = {\n",
    "    \"Logistic Regression\": {\n",
    "        \"model\": loaded_models[\"Logistic Regression\"],\n",
    "        \"params\": {\n",
    "            \"C\": uniform(0.01, 10),\n",
    "            \"penalty\": [\"l1\",\"l2\"],\n",
    "            \"solver\": [\"liblinear\"]\n",
    "        }\n",
    "    },\n",
    "    \"Decision Tree\": {\n",
    "        \"model\": loaded_models[\"Decision Tree\"],\n",
    "        \"params\": {\n",
    "            \"max_depth\": randint(3,15),\n",
    "            \"min_samples_split\": randint(2,10),\n",
    "            \"min_samples_leaf\": randint(1,4)\n",
    "        }\n",
    "    },\n",
    "    \"Random Forest\": {\n",
    "        \"model\": loaded_models[\"Random Forest\"],\n",
    "        \"params\": {\n",
    "            \"n_estimators\": randint(100,300),\n",
    "            \"max_depth\": randint(3,15),\n",
    "            \"min_samples_split\": randint(2,10),\n",
    "            \"min_samples_leaf\": randint(1,4)\n",
    "        }\n",
    "    },\n",
    "    \"SVM\": {\n",
    "        \"model\": loaded_models[\"SVM\"],\n",
    "        \"params\": {\n",
    "            \"C\": uniform(0.1, 10),\n",
    "            \"kernel\": [\"linear\",\"rbf\"],\n",
    "            \"gamma\": [\"scale\",\"auto\"]\n",
    "        }\n",
    "    }\n",
    "}"
   ]
  },
  {
   "cell_type": "code",
   "execution_count": 9,
   "id": "1e2408ba",
   "metadata": {},
   "outputs": [
    {
     "name": "stdout",
     "output_type": "stream",
     "text": [
      "\n",
      "RandomizedSearchCV for Logistic Regression...\n",
      "Fitting 5 folds for each of 20 candidates, totalling 100 fits\n",
      "Original ROC-AUC: 0.9479, Tuned ROC-AUC: 0.9572\n",
      "\n",
      "RandomizedSearchCV for Decision Tree...\n",
      "Fitting 5 folds for each of 20 candidates, totalling 100 fits\n",
      "Original ROC-AUC: 0.8056, Tuned ROC-AUC: 0.8524\n",
      "\n",
      "RandomizedSearchCV for Random Forest...\n",
      "Fitting 5 folds for each of 20 candidates, totalling 100 fits\n",
      "Original ROC-AUC: 0.9398, Tuned ROC-AUC: 0.9583\n",
      "\n",
      "RandomizedSearchCV for SVM...\n",
      "Fitting 5 folds for each of 20 candidates, totalling 100 fits\n",
      "Original ROC-AUC: 0.9688, Tuned ROC-AUC: 0.9363\n"
     ]
    }
   ],
   "source": [
    "best_models = {}\n",
    "results = []\n",
    "\n",
    "for name, mp in models_params.items():\n",
    "    print(f\"\\nRandomizedSearchCV for {name}...\")\n",
    "    rs = RandomizedSearchCV(mp[\"model\"], mp[\"params\"], n_iter=20, cv=5, scoring=\"roc_auc\", n_jobs=1, verbose=1, random_state=42)\n",
    "    rs.fit(X_train, y_train)\n",
    "    \n",
    "    best_model = rs.best_estimator_\n",
    "    best_models[name] = best_model\n",
    "    \n",
    "    # Evaluate before tuning\n",
    "    y_proba_orig = mp[\"model\"].predict_proba(X_test)[:,1] if hasattr(mp[\"model\"], \"predict_proba\") else mp[\"model\"].decision_function(X_test)\n",
    "    roc_auc_orig = roc_auc_score(y_test, y_proba_orig)\n",
    "    \n",
    "    # Evaluate after tuning\n",
    "    y_proba_best = best_model.predict_proba(X_test)[:,1] if hasattr(best_model, \"predict_proba\") else best_model.decision_function(X_test)\n",
    "    roc_auc_best = roc_auc_score(y_test, y_proba_best)\n",
    "    \n",
    "    results.append([name, roc_auc_orig, roc_auc_best, rs.best_params_])\n",
    "    print(f\"Original ROC-AUC: {roc_auc_orig:.4f}, Tuned ROC-AUC: {roc_auc_best:.4f}\")"
   ]
  },
  {
   "cell_type": "code",
   "execution_count": 11,
   "id": "4962c2bc",
   "metadata": {},
   "outputs": [
    {
     "name": "stdout",
     "output_type": "stream",
     "text": [
      "\n",
      "Comparison of Original vs Tuned Models:\n"
     ]
    },
    {
     "data": {
      "application/vnd.microsoft.datawrangler.viewer.v0+json": {
       "columns": [
        {
         "name": "index",
         "rawType": "int64",
         "type": "integer"
        },
        {
         "name": "Model",
         "rawType": "object",
         "type": "string"
        },
        {
         "name": "ROC-AUC Original",
         "rawType": "float64",
         "type": "float"
        },
        {
         "name": "ROC-AUC Tuned",
         "rawType": "float64",
         "type": "float"
        },
        {
         "name": "Best Hyperparameters",
         "rawType": "object",
         "type": "unknown"
        }
       ],
       "ref": "ab760164-c596-4a70-85f8-8c99fc332b39",
       "rows": [
        [
         "2",
         "Random Forest",
         "0.9398148148148148",
         "0.9583333333333333",
         "{'max_depth': 5, 'min_samples_leaf': 3, 'min_samples_split': 5, 'n_estimators': 163}"
        ],
        [
         "0",
         "Logistic Regression",
         "0.9479166666666667",
         "0.957175925925926",
         "{'C': 0.017787658410143285, 'penalty': 'l2', 'solver': 'liblinear'}"
        ],
        [
         "3",
         "SVM",
         "0.9687500000000001",
         "0.9363425925925926",
         "{'C': 3.1424224295953773, 'gamma': 'auto', 'kernel': 'linear'}"
        ],
        [
         "1",
         "Decision Tree",
         "0.8055555555555556",
         "0.8524305555555554",
         "{'max_depth': 14, 'min_samples_leaf': 2, 'min_samples_split': 7}"
        ]
       ],
       "shape": {
        "columns": 4,
        "rows": 4
       }
      },
      "text/html": [
       "<div>\n",
       "<style scoped>\n",
       "    .dataframe tbody tr th:only-of-type {\n",
       "        vertical-align: middle;\n",
       "    }\n",
       "\n",
       "    .dataframe tbody tr th {\n",
       "        vertical-align: top;\n",
       "    }\n",
       "\n",
       "    .dataframe thead th {\n",
       "        text-align: right;\n",
       "    }\n",
       "</style>\n",
       "<table border=\"1\" class=\"dataframe\">\n",
       "  <thead>\n",
       "    <tr style=\"text-align: right;\">\n",
       "      <th></th>\n",
       "      <th>Model</th>\n",
       "      <th>ROC-AUC Original</th>\n",
       "      <th>ROC-AUC Tuned</th>\n",
       "      <th>Best Hyperparameters</th>\n",
       "    </tr>\n",
       "  </thead>\n",
       "  <tbody>\n",
       "    <tr>\n",
       "      <th>2</th>\n",
       "      <td>Random Forest</td>\n",
       "      <td>0.939815</td>\n",
       "      <td>0.958333</td>\n",
       "      <td>{'max_depth': 5, 'min_samples_leaf': 3, 'min_s...</td>\n",
       "    </tr>\n",
       "    <tr>\n",
       "      <th>0</th>\n",
       "      <td>Logistic Regression</td>\n",
       "      <td>0.947917</td>\n",
       "      <td>0.957176</td>\n",
       "      <td>{'C': 0.017787658410143285, 'penalty': 'l2', '...</td>\n",
       "    </tr>\n",
       "    <tr>\n",
       "      <th>3</th>\n",
       "      <td>SVM</td>\n",
       "      <td>0.968750</td>\n",
       "      <td>0.936343</td>\n",
       "      <td>{'C': 3.1424224295953773, 'gamma': 'auto', 'ke...</td>\n",
       "    </tr>\n",
       "    <tr>\n",
       "      <th>1</th>\n",
       "      <td>Decision Tree</td>\n",
       "      <td>0.805556</td>\n",
       "      <td>0.852431</td>\n",
       "      <td>{'max_depth': 14, 'min_samples_leaf': 2, 'min_...</td>\n",
       "    </tr>\n",
       "  </tbody>\n",
       "</table>\n",
       "</div>"
      ],
      "text/plain": [
       "                 Model  ROC-AUC Original  ROC-AUC Tuned  \\\n",
       "2        Random Forest          0.939815       0.958333   \n",
       "0  Logistic Regression          0.947917       0.957176   \n",
       "3                  SVM          0.968750       0.936343   \n",
       "1        Decision Tree          0.805556       0.852431   \n",
       "\n",
       "                                Best Hyperparameters  \n",
       "2  {'max_depth': 5, 'min_samples_leaf': 3, 'min_s...  \n",
       "0  {'C': 0.017787658410143285, 'penalty': 'l2', '...  \n",
       "3  {'C': 3.1424224295953773, 'gamma': 'auto', 'ke...  \n",
       "1  {'max_depth': 14, 'min_samples_leaf': 2, 'min_...  "
      ]
     },
     "execution_count": 11,
     "metadata": {},
     "output_type": "execute_result"
    }
   ],
   "source": [
    "results_df = pd.DataFrame(results, columns=[\"Model\", \"ROC-AUC Original\", \"ROC-AUC Tuned\", \"Best Hyperparameters\"])\n",
    "results_df = results_df.sort_values(by=\"ROC-AUC Tuned\", ascending=False)\n",
    "print(\"\\nComparison of Original vs Tuned Models:\")\n",
    "results_df"
   ]
  },
  {
   "cell_type": "code",
   "execution_count": 12,
   "id": "b3059693",
   "metadata": {},
   "outputs": [],
   "source": [
    "best_model_name = results_df.iloc[0][\"Model\"]\n",
    "best_model_final = best_models[best_model_name]\n",
    "\n",
    "with open(\"models/final_model.pkl\", \"wb\") as f:\n",
    "    pickle.dump(best_model_final, f)\n"
   ]
  },
  {
   "cell_type": "code",
   "execution_count": 13,
   "id": "6fc6acae",
   "metadata": {},
   "outputs": [],
   "source": [
    "with open(\"models/scaler.pkl\", \"wb\") as f:\n",
    "    pickle.dump(scaler, f)"
   ]
  }
 ],
 "metadata": {
  "kernelspec": {
   "display_name": "Python 3",
   "language": "python",
   "name": "python3"
  },
  "language_info": {
   "codemirror_mode": {
    "name": "ipython",
    "version": 3
   },
   "file_extension": ".py",
   "mimetype": "text/x-python",
   "name": "python",
   "nbconvert_exporter": "python",
   "pygments_lexer": "ipython3",
   "version": "3.12.7"
  }
 },
 "nbformat": 4,
 "nbformat_minor": 5
}
